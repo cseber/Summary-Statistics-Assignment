{
 "cells": [
  {
   "cell_type": "markdown",
   "metadata": {},
   "source": [
    "## Question 1"
   ]
  },
  {
   "cell_type": "code",
   "execution_count": 11,
   "metadata": {},
   "outputs": [
    {
     "data": {
      "text/plain": [
       "('mean = 9.857142857142858',\n",
       " 'median = 10',\n",
       " 'mode = 8',\n",
       " 'variance = 7.476190476190475',\n",
       " 'standard_deviation = 2.734262327610589',\n",
       " 'standard_error = 1.0334540197243192')"
      ]
     },
     "execution_count": 11,
     "metadata": {},
     "output_type": "execute_result"
    }
   ],
   "source": [
    "# Calulations by hand\n",
    "\n",
    "mean = (14 + 12 + 11 + 10 + 8 + 8 + 6)/7\n",
    "median = 10\n",
    "mode = 8\n",
    "variance = ((14 - mean)**2 + (12 - mean)**2 + (11 - mean)**2 + (10 - mean)**2 + (8 - mean)**2 + (8 - mean)**2 + (6 - mean)**2)/(7 - 1)\n",
    "standard_deviation = variance**.5\n",
    "standard_error = standard_deviation/7**.5\n",
    "\n",
    "'mean = {}'.format(mean), 'median = {}'.format(median), 'mode = {}'.format(mode), 'variance = {}'.format(variance), 'standard_deviation = {}'.format(standard_deviation), 'standard_error = {}'.format(standard_error)"
   ]
  },
  {
   "cell_type": "code",
   "execution_count": 12,
   "metadata": {
    "scrolled": true
   },
   "outputs": [
    {
     "data": {
      "text/plain": [
       "('mean = 9.857142857142858',\n",
       " 'median = 10.0',\n",
       " 'mode = 8',\n",
       " 'variance = 7.476190476190475',\n",
       " 'standard_deviation = 2.734262327610589',\n",
       " 'standard_error = 1.0334540197243192')"
      ]
     },
     "execution_count": 12,
     "metadata": {},
     "output_type": "execute_result"
    }
   ],
   "source": [
    "# Calculations with Python\n",
    "\n",
    "import numpy as np\n",
    "import pandas as pd\n",
    "import statistics\n",
    "\n",
    "brady_bunch = pd.DataFrame()\n",
    "brady_bunch['age'] = [14, 12, 11, 10, 8, 8, 6]\n",
    "\n",
    "mean = np.mean(brady_bunch['age'])\n",
    "median = np.median(brady_bunch['age'])\n",
    "mode = statistics.mode(brady_bunch['age'])\n",
    "variance = np.var(brady_bunch['age'], ddof=1)\n",
    "standard_deviation = np.std(brady_bunch['age'], ddof=1)\n",
    "standard_error = standard_deviation/np.sqrt(len(brady_bunch['age']))\n",
    "\n",
    "'mean = {}'.format(mean), 'median = {}'.format(median), 'mode = {}'.format(mode), 'variance = {}'.format(variance), 'standard_deviation = {}'.format(standard_deviation), 'standard_error = {}'.format(standard_error)"
   ]
  },
  {
   "cell_type": "markdown",
   "metadata": {},
   "source": [
    "## Question 2\n",
    "\n",
    "I would use the mean, because there are no extreme values. I would use the standard deviation to measure the variabilty of the data. Standard devation has useful properties that allows us to have a good picture of the data."
   ]
  },
  {
   "cell_type": "markdown",
   "metadata": {},
   "source": [
    "## Question 3"
   ]
  },
  {
   "cell_type": "code",
   "execution_count": 13,
   "metadata": {},
   "outputs": [
    {
     "data": {
      "text/plain": [
       "('mean = 10.0',\n",
       " 'median = 10.0',\n",
       " 'mode = 8',\n",
       " 'variance = 6.333333333333333',\n",
       " 'standard_deviation = 2.516611478423583',\n",
       " 'standard_error = 0.9511897312113418')"
      ]
     },
     "execution_count": 13,
     "metadata": {},
     "output_type": "execute_result"
    }
   ],
   "source": [
    "brady_bunch['age_updated'] = [14, 12, 11, 10, 8, 8, 7]\n",
    "\n",
    "mean = np.mean(brady_bunch['age_updated'])\n",
    "median = np.median(brady_bunch['age_updated'])\n",
    "mode = statistics.mode(brady_bunch['age_updated'])\n",
    "variance = np.var(brady_bunch['age_updated'], ddof=1)\n",
    "standard_deviation = np.std(brady_bunch['age_updated'], ddof=1)\n",
    "standard_error = standard_deviation/np.sqrt(len(brady_bunch['age_updated']))\n",
    "\n",
    "'mean = {}'.format(mean), 'median = {}'.format(median), 'mode = {}'.format(mode), 'variance = {}'.format(variance), 'standard_deviation = {}'.format(standard_deviation), 'standard_error = {}'.format(standard_error)"
   ]
  },
  {
   "cell_type": "markdown",
   "metadata": {},
   "source": [
    "The mean, variance, standard deviation and standard error CHANGED.\n",
    "The median and mode did NOT CHANGE."
   ]
  },
  {
   "cell_type": "markdown",
   "metadata": {},
   "source": [
    "## Question 4"
   ]
  },
  {
   "cell_type": "code",
   "execution_count": 16,
   "metadata": {},
   "outputs": [
    {
     "data": {
      "text/plain": [
       "('mean = 9.0',\n",
       " 'median = 10.0',\n",
       " 'mode = None',\n",
       " 'variance = 18.0',\n",
       " 'standard_deviation = 4.242640687119285',\n",
       " 'standard_error = 1.6035674514745462')"
      ]
     },
     "execution_count": 16,
     "metadata": {},
     "output_type": "execute_result"
    }
   ],
   "source": [
    "brady_bunch['oliver_replaced'] = [14, 12, 11, 10, 1, 8, 7]\n",
    "\n",
    "mean = np.mean(brady_bunch['oliver_replaced'])\n",
    "median = np.median(brady_bunch['oliver_replaced'])\n",
    "mode = None\n",
    "variance = np.var(brady_bunch['oliver_replaced'], ddof=1)\n",
    "standard_deviation = np.std(brady_bunch['oliver_replaced'], ddof=1)\n",
    "standard_error = standard_deviation/np.sqrt(len(brady_bunch['oliver_replaced']))\n",
    "\n",
    "'mean = {}'.format(mean), 'median = {}'.format(median), 'mode = {}'.format(mode), 'variance = {}'.format(variance), 'standard_deviation = {}'.format(standard_deviation), 'standard_error = {}'.format(standard_error)"
   ]
  },
  {
   "cell_type": "markdown",
   "metadata": {},
   "source": [
    "The mean is now sensitive to the extreme value of '1'. I would now use the median instead of the mean."
   ]
  },
  {
   "cell_type": "markdown",
   "metadata": {},
   "source": [
    "## Question 5"
   ]
  },
  {
   "cell_type": "code",
   "execution_count": 22,
   "metadata": {},
   "outputs": [
    {
     "data": {
      "text/plain": [
       "('mean = 20.0',\n",
       " 'median = 20.0',\n",
       " 'mode = None',\n",
       " 'variance = 9.0',\n",
       " 'standard_deviation = 3.0',\n",
       " 'standard_error = 1.7320508075688774')"
      ]
     },
     "execution_count": 22,
     "metadata": {},
     "output_type": "execute_result"
    }
   ],
   "source": [
    "# I would not use the sciphi phanatic value, \n",
    "# because this does not give a good representation of the general population\n",
    "\n",
    "fans = [23, 20, 17]\n",
    "mean = np.mean(fans)\n",
    "median = np.median(fans)\n",
    "mode = None\n",
    "variance = np.var(fans, ddof=1)\n",
    "standard_deviation = np.std(fans, ddof=1)\n",
    "standard_error = standard_deviation/np.sqrt(len(fans))\n",
    "\n",
    "'mean = {}'.format(mean), 'median = {}'.format(median), 'mode = {}'.format(mode), 'variance = {}'.format(variance), 'standard_deviation = {}'.format(standard_deviation), 'standard_error = {}'.format(standard_error)"
   ]
  },
  {
   "cell_type": "markdown",
   "metadata": {},
   "source": [
    "I would estimate 20% (the mean) of Americans are fans of the Brady Bunch."
   ]
  }
 ],
 "metadata": {
  "kernelspec": {
   "display_name": "Python 3",
   "language": "python",
   "name": "python3"
  },
  "language_info": {
   "codemirror_mode": {
    "name": "ipython",
    "version": 3
   },
   "file_extension": ".py",
   "mimetype": "text/x-python",
   "name": "python",
   "nbconvert_exporter": "python",
   "pygments_lexer": "ipython3",
   "version": "3.7.3"
  }
 },
 "nbformat": 4,
 "nbformat_minor": 2
}
